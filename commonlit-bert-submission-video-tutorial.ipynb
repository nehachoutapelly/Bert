{
 "cells": [
  {
   "cell_type": "markdown",
   "id": "proved-nomination",
   "metadata": {
    "papermill": {
     "duration": 0.018623,
     "end_time": "2021-06-06T01:06:30.475651",
     "exception": false,
     "start_time": "2021-06-06T01:06:30.457028",
     "status": "completed"
    },
    "tags": []
   },
   "source": [
    "## Video Tutorial\n",
    "\n",
    "This EDA comes along with a video tutorial, check it out [here](https://www.youtube.com/watch?v=iiwEW-sg9KE&list=PL_49VD9KwQ_OJCqZOeOlSUQKcr1MyifOc&index=2)."
   ]
  },
  {
   "cell_type": "code",
   "execution_count": 1,
   "id": "generic-color",
   "metadata": {
    "execution": {
     "iopub.execute_input": "2021-06-06T01:06:30.527054Z",
     "iopub.status.busy": "2021-06-06T01:06:30.526368Z",
     "iopub.status.idle": "2021-06-06T01:07:29.475450Z",
     "shell.execute_reply": "2021-06-06T01:07:29.474707Z",
     "shell.execute_reply.started": "2021-05-31T22:24:15.401706Z"
    },
    "papermill": {
     "duration": 58.982952,
     "end_time": "2021-06-06T01:07:29.475703",
     "exception": false,
     "start_time": "2021-06-06T01:06:30.492751",
     "status": "completed"
    },
    "tags": []
   },
   "outputs": [
    {
     "name": "stdout",
     "output_type": "stream",
     "text": [
      "Processing /kaggle/input/huggingfaces/datasets/datasets-1.6.2-py3-none-any.whl\r\n",
      "Processing /kaggle/input/huggingfaces/datasets/huggingface_hub-0.0.9-py3-none-any.whl\r\n",
      "Processing /kaggle/input/huggingfaces/datasets/tqdm-4.49.0-py2.py3-none-any.whl\r\n",
      "Processing /kaggle/input/huggingfaces/datasets/xxhash-2.0.2-cp37-cp37m-manylinux2010_x86_64.whl\r\n",
      "Requirement already satisfied: requests>=2.19.0 in /opt/conda/lib/python3.7/site-packages (from datasets==1.6.2) (2.25.1)\r\n",
      "Requirement already satisfied: fsspec in /opt/conda/lib/python3.7/site-packages (from datasets==1.6.2) (0.8.7)\r\n",
      "Requirement already satisfied: numpy>=1.17 in /opt/conda/lib/python3.7/site-packages (from datasets==1.6.2) (1.19.5)\r\n",
      "Requirement already satisfied: importlib-metadata in /opt/conda/lib/python3.7/site-packages (from datasets==1.6.2) (3.4.0)\r\n",
      "Requirement already satisfied: dill in /opt/conda/lib/python3.7/site-packages (from datasets==1.6.2) (0.3.3)\r\n",
      "Requirement already satisfied: packaging in /opt/conda/lib/python3.7/site-packages (from datasets==1.6.2) (20.9)\r\n",
      "Requirement already satisfied: multiprocess in /opt/conda/lib/python3.7/site-packages (from datasets==1.6.2) (0.70.11.1)\r\n",
      "Requirement already satisfied: pandas in /opt/conda/lib/python3.7/site-packages (from datasets==1.6.2) (1.1.5)\r\n",
      "Requirement already satisfied: pyarrow>=1.0.0<4.0.0 in /opt/conda/lib/python3.7/site-packages (from datasets==1.6.2) (1.0.1)\r\n",
      "Requirement already satisfied: filelock in /opt/conda/lib/python3.7/site-packages (from huggingface-hub==0.0.9) (3.0.12)\r\n",
      "Requirement already satisfied: typing-extensions in /opt/conda/lib/python3.7/site-packages (from huggingface-hub==0.0.9) (3.7.4.3)\r\n",
      "Requirement already satisfied: certifi>=2017.4.17 in /opt/conda/lib/python3.7/site-packages (from requests>=2.19.0->datasets==1.6.2) (2020.12.5)\r\n",
      "Requirement already satisfied: urllib3<1.27,>=1.21.1 in /opt/conda/lib/python3.7/site-packages (from requests>=2.19.0->datasets==1.6.2) (1.26.4)\r\n",
      "Requirement already satisfied: chardet<5,>=3.0.2 in /opt/conda/lib/python3.7/site-packages (from requests>=2.19.0->datasets==1.6.2) (4.0.0)\r\n",
      "Requirement already satisfied: idna<3,>=2.5 in /opt/conda/lib/python3.7/site-packages (from requests>=2.19.0->datasets==1.6.2) (2.10)\r\n",
      "Requirement already satisfied: zipp>=0.5 in /opt/conda/lib/python3.7/site-packages (from importlib-metadata->datasets==1.6.2) (3.4.1)\r\n",
      "Requirement already satisfied: pyparsing>=2.0.2 in /opt/conda/lib/python3.7/site-packages (from packaging->datasets==1.6.2) (2.4.7)\r\n",
      "Requirement already satisfied: python-dateutil>=2.7.3 in /opt/conda/lib/python3.7/site-packages (from pandas->datasets==1.6.2) (2.8.1)\r\n",
      "Requirement already satisfied: pytz>=2017.2 in /opt/conda/lib/python3.7/site-packages (from pandas->datasets==1.6.2) (2021.1)\r\n",
      "Requirement already satisfied: six>=1.5 in /opt/conda/lib/python3.7/site-packages (from python-dateutil>=2.7.3->pandas->datasets==1.6.2) (1.15.0)\r\n",
      "Installing collected packages: tqdm, xxhash, huggingface-hub, datasets\r\n",
      "  Attempting uninstall: tqdm\r\n",
      "    Found existing installation: tqdm 4.59.0\r\n",
      "    Uninstalling tqdm-4.59.0:\r\n",
      "      Successfully uninstalled tqdm-4.59.0\r\n",
      "Successfully installed datasets-1.6.2 huggingface-hub-0.0.9 tqdm-4.49.0 xxhash-2.0.2\r\n",
      "Found existing installation: fsspec 0.8.7\r\n",
      "Uninstalling fsspec-0.8.7:\r\n",
      "  Successfully uninstalled fsspec-0.8.7\r\n",
      "Processing /kaggle/input/huggingfaces/datasets/fsspec-2021.5.0-py3-none-any.whl\r\n",
      "Installing collected packages: fsspec\r\n",
      "Successfully installed fsspec-2021.5.0\r\n"
     ]
    }
   ],
   "source": [
    "# !pip install datasets\n",
    "# !pip uninstall fsspec -y\n",
    "# !pip install fsspec==2021.5.0\n",
    "\n",
    "!pip install \\\n",
    "    /kaggle/input/huggingfaces/datasets/datasets* \\\n",
    "    /kaggle/input/huggingfaces/datasets/huggingface_hub* \\\n",
    "    /kaggle/input/huggingfaces/datasets/tqdm* \\\n",
    "    /kaggle/input/huggingfaces/datasets/xxhash*\n",
    "!pip uninstall fsspec -y\n",
    "!pip install /kaggle/input/huggingfaces/datasets/fsspec*"
   ]
  },
  {
   "cell_type": "code",
   "execution_count": 2,
   "id": "right-brown",
   "metadata": {
    "execution": {
     "iopub.execute_input": "2021-06-06T01:07:29.527289Z",
     "iopub.status.busy": "2021-06-06T01:07:29.526381Z",
     "iopub.status.idle": "2021-06-06T01:07:29.530352Z",
     "shell.execute_reply": "2021-06-06T01:07:29.531060Z",
     "shell.execute_reply.started": "2021-05-31T22:24:42.348354Z"
    },
    "papermill": {
     "duration": 0.032858,
     "end_time": "2021-06-06T01:07:29.531210",
     "exception": false,
     "start_time": "2021-06-06T01:07:29.498352",
     "status": "completed"
    },
    "tags": []
   },
   "outputs": [
    {
     "name": "stdout",
     "output_type": "stream",
     "text": [
      "env: WANDB_DISABLED=true\n"
     ]
    }
   ],
   "source": [
    "%env WANDB_DISABLED=true"
   ]
  },
  {
   "cell_type": "code",
   "execution_count": 3,
   "id": "vocational-lawrence",
   "metadata": {
    "_cell_guid": "b1076dfc-b9ad-4769-8c92-a6c4dae69d19",
    "_uuid": "8f2839f25d086af736a60e9eeb907d3b93b6e0e5",
    "execution": {
     "iopub.execute_input": "2021-06-06T01:07:29.583657Z",
     "iopub.status.busy": "2021-06-06T01:07:29.582734Z",
     "iopub.status.idle": "2021-06-06T01:07:37.540331Z",
     "shell.execute_reply": "2021-06-06T01:07:37.539630Z",
     "shell.execute_reply.started": "2021-05-31T22:24:42.858761Z"
    },
    "papermill": {
     "duration": 7.986677,
     "end_time": "2021-06-06T01:07:37.540496",
     "exception": false,
     "start_time": "2021-06-06T01:07:29.553819",
     "status": "completed"
    },
    "tags": []
   },
   "outputs": [],
   "source": [
    "import os\n",
    "\n",
    "import numpy as np\n",
    "import pandas as pd\n",
    "import matplotlib.pyplot as plt\n",
    "import seaborn as sns\n",
    "from transformers import BertTokenizer, BertForSequenceClassification\n",
    "from transformers import Trainer, TrainingArguments\n",
    "from datasets import load_dataset\n",
    "import torch\n",
    "from torch import nn\n",
    "\n",
    "sns.set()\n",
    "%matplotlib inline"
   ]
  },
  {
   "cell_type": "code",
   "execution_count": 4,
   "id": "expected-controversy",
   "metadata": {
    "execution": {
     "iopub.execute_input": "2021-06-06T01:07:37.592595Z",
     "iopub.status.busy": "2021-06-06T01:07:37.591882Z",
     "iopub.status.idle": "2021-06-06T01:07:37.670055Z",
     "shell.execute_reply": "2021-06-06T01:07:37.670929Z",
     "shell.execute_reply.started": "2021-05-31T22:24:51.872949Z"
    },
    "papermill": {
     "duration": 0.108165,
     "end_time": "2021-06-06T01:07:37.671241",
     "exception": false,
     "start_time": "2021-06-06T01:07:37.563076",
     "status": "completed"
    },
    "tags": []
   },
   "outputs": [
    {
     "name": "stdout",
     "output_type": "stream",
     "text": [
      "2834\n",
      "7\n"
     ]
    }
   ],
   "source": [
    "data_dir = '/kaggle/input/commonlitreadabilityprize'\n",
    "train_data_path = os.path.join(data_dir, 'train.csv')\n",
    "test_data_path = os.path.join(data_dir, 'test.csv')\n",
    "\n",
    "train_df = pd.read_csv(train_data_path)\n",
    "test_df = pd.read_csv(test_data_path)\n",
    "\n",
    "print(len(train_df))\n",
    "print(len(test_df))"
   ]
  },
  {
   "cell_type": "code",
   "execution_count": 5,
   "id": "square-animal",
   "metadata": {
    "execution": {
     "iopub.execute_input": "2021-06-06T01:07:37.722397Z",
     "iopub.status.busy": "2021-06-06T01:07:37.721627Z",
     "iopub.status.idle": "2021-06-06T01:07:47.452926Z",
     "shell.execute_reply": "2021-06-06T01:07:47.452031Z",
     "shell.execute_reply.started": "2021-05-31T22:24:51.964628Z"
    },
    "papermill": {
     "duration": 9.758371,
     "end_time": "2021-06-06T01:07:47.453154",
     "exception": false,
     "start_time": "2021-06-06T01:07:37.694783",
     "status": "completed"
    },
    "tags": []
   },
   "outputs": [
    {
     "name": "stderr",
     "output_type": "stream",
     "text": [
      "Some weights of the model checkpoint at /kaggle/input/huggingface-bert/bert-base-cased were not used when initializing BertForSequenceClassification: ['cls.predictions.bias', 'cls.predictions.transform.dense.weight', 'cls.predictions.transform.dense.bias', 'cls.predictions.decoder.weight', 'cls.seq_relationship.weight', 'cls.seq_relationship.bias', 'cls.predictions.transform.LayerNorm.weight', 'cls.predictions.transform.LayerNorm.bias']\n",
      "- This IS expected if you are initializing BertForSequenceClassification from the checkpoint of a model trained on another task or with another architecture (e.g. initializing a BertForSequenceClassification model from a BertForPreTraining model).\n",
      "- This IS NOT expected if you are initializing BertForSequenceClassification from the checkpoint of a model that you expect to be exactly identical (initializing a BertForSequenceClassification model from a BertForSequenceClassification model).\n",
      "Some weights of BertForSequenceClassification were not initialized from the model checkpoint at /kaggle/input/huggingface-bert/bert-base-cased and are newly initialized: ['classifier.weight', 'classifier.bias']\n",
      "You should probably TRAIN this model on a down-stream task to be able to use it for predictions and inference.\n"
     ]
    }
   ],
   "source": [
    "huggingface_dir = '/kaggle/input/huggingface-bert'\n",
    "model_dir = os.path.join(huggingface_dir, 'bert-base-cased')\n",
    "\n",
    "tokenizer = BertTokenizer.from_pretrained(model_dir)\n",
    "model = BertForSequenceClassification.from_pretrained(model_dir)"
   ]
  },
  {
   "cell_type": "code",
   "execution_count": 6,
   "id": "reserved-beauty",
   "metadata": {
    "execution": {
     "iopub.execute_input": "2021-06-06T01:07:47.507255Z",
     "iopub.status.busy": "2021-06-06T01:07:47.506344Z",
     "iopub.status.idle": "2021-06-06T01:07:47.510411Z",
     "shell.execute_reply": "2021-06-06T01:07:47.510973Z",
     "shell.execute_reply.started": "2021-05-31T22:25:02.0395Z"
    },
    "papermill": {
     "duration": 0.033145,
     "end_time": "2021-06-06T01:07:47.511122",
     "exception": false,
     "start_time": "2021-06-06T01:07:47.477977",
     "status": "completed"
    },
    "tags": []
   },
   "outputs": [],
   "source": [
    "model.classifier = nn.Linear(768, 1)\n",
    "model.num_labels = 1"
   ]
  },
  {
   "cell_type": "code",
   "execution_count": 7,
   "id": "gross-apollo",
   "metadata": {
    "execution": {
     "iopub.execute_input": "2021-06-06T01:07:47.565754Z",
     "iopub.status.busy": "2021-06-06T01:07:47.564815Z",
     "iopub.status.idle": "2021-06-06T01:07:47.771229Z",
     "shell.execute_reply": "2021-06-06T01:07:47.772143Z",
     "shell.execute_reply.started": "2021-05-31T22:25:02.04872Z"
    },
    "papermill": {
     "duration": 0.237077,
     "end_time": "2021-06-06T01:07:47.772381",
     "exception": false,
     "start_time": "2021-06-06T01:07:47.535304",
     "status": "completed"
    },
    "tags": []
   },
   "outputs": [
    {
     "name": "stdout",
     "output_type": "stream",
     "text": [
      "SequenceClassifierOutput(loss=tensor(1.5078, grad_fn=<MseLossBackward>), logits=tensor([[-1.2279]], grad_fn=<AddmmBackward>), hidden_states=None, attentions=None)\n",
      "tensor(1.5078, grad_fn=<MseLossBackward>)\n",
      "tensor([[-1.2279]], grad_fn=<AddmmBackward>)\n"
     ]
    }
   ],
   "source": [
    "inputs = tokenizer(\"Hello, my dog is cute\", return_tensors=\"pt\")\n",
    "labels = torch.tensor([0]).unsqueeze(0)  # Batch size 1\n",
    "inputs['labels'] = labels\n",
    "outputs = model(**inputs)\n",
    "loss = outputs.loss\n",
    "logits = outputs.logits\n",
    "\n",
    "print(outputs)\n",
    "print(loss)\n",
    "print(logits)"
   ]
  },
  {
   "cell_type": "code",
   "execution_count": 8,
   "id": "placed-organ",
   "metadata": {
    "execution": {
     "iopub.execute_input": "2021-06-06T01:07:47.830263Z",
     "iopub.status.busy": "2021-06-06T01:07:47.829507Z",
     "iopub.status.idle": "2021-06-06T01:08:28.100400Z",
     "shell.execute_reply": "2021-06-06T01:08:28.087029Z",
     "shell.execute_reply.started": "2021-05-31T22:25:02.060744Z"
    },
    "papermill": {
     "duration": 40.303072,
     "end_time": "2021-06-06T01:08:28.100566",
     "exception": false,
     "start_time": "2021-06-06T01:07:47.797494",
     "status": "completed"
    },
    "tags": []
   },
   "outputs": [
    {
     "name": "stdout",
     "output_type": "stream",
     "text": [
      "Downloading and preparing dataset csv/default (download: Unknown size, generated: Unknown size, post-processed: Unknown size, total: Unknown size) to /root/.cache/huggingface/datasets/csv/default-f73cb8e70052aef8/0.0.0/2dc6629a9ff6b5697d82c25b73731dd440507a69cbce8b425db50b751e8fcfd0...\n"
     ]
    },
    {
     "data": {
      "application/vnd.jupyter.widget-view+json": {
       "model_id": "14d71641492c497ab248dc12a1e08945",
       "version_major": 2,
       "version_minor": 0
      },
      "text/plain": [
       "HBox(children=(FloatProgress(value=1.0, bar_style='info', layout=Layout(width='20px'), max=1.0), HTML(value=''…"
      ]
     },
     "metadata": {},
     "output_type": "display_data"
    },
    {
     "name": "stdout",
     "output_type": "stream",
     "text": [
      "Dataset csv downloaded and prepared to /root/.cache/huggingface/datasets/csv/default-f73cb8e70052aef8/0.0.0/2dc6629a9ff6b5697d82c25b73731dd440507a69cbce8b425db50b751e8fcfd0. Subsequent calls will reuse this data.\n",
      "Downloading and preparing dataset csv/default (download: Unknown size, generated: Unknown size, post-processed: Unknown size, total: Unknown size) to /root/.cache/huggingface/datasets/csv/default-26900ac0626744ab/0.0.0/2dc6629a9ff6b5697d82c25b73731dd440507a69cbce8b425db50b751e8fcfd0...\n"
     ]
    },
    {
     "data": {
      "application/vnd.jupyter.widget-view+json": {
       "model_id": "48f27efc385b4fadbd82b9118574e893",
       "version_major": 2,
       "version_minor": 0
      },
      "text/plain": [
       "HBox(children=(FloatProgress(value=1.0, bar_style='info', layout=Layout(width='20px'), max=1.0), HTML(value=''…"
      ]
     },
     "metadata": {},
     "output_type": "display_data"
    },
    {
     "name": "stdout",
     "output_type": "stream",
     "text": [
      "Dataset csv downloaded and prepared to /root/.cache/huggingface/datasets/csv/default-26900ac0626744ab/0.0.0/2dc6629a9ff6b5697d82c25b73731dd440507a69cbce8b425db50b751e8fcfd0. Subsequent calls will reuse this data.\n"
     ]
    }
   ],
   "source": [
    "train_datasets = load_dataset('csv', data_files=[train_data_path])\n",
    "test_datasets = load_dataset('csv', data_files=[test_data_path])"
   ]
  },
  {
   "cell_type": "code",
   "execution_count": 9,
   "id": "widespread-amazon",
   "metadata": {
    "execution": {
     "iopub.execute_input": "2021-06-06T01:08:28.186503Z",
     "iopub.status.busy": "2021-06-06T01:08:28.176152Z",
     "iopub.status.idle": "2021-06-06T01:08:46.408902Z",
     "shell.execute_reply": "2021-06-06T01:08:46.409695Z",
     "shell.execute_reply.started": "2021-05-31T22:25:42.318013Z"
    },
    "papermill": {
     "duration": 18.283066,
     "end_time": "2021-06-06T01:08:46.410006",
     "exception": false,
     "start_time": "2021-06-06T01:08:28.126940",
     "status": "completed"
    },
    "tags": []
   },
   "outputs": [
    {
     "data": {
      "application/vnd.jupyter.widget-view+json": {
       "model_id": "36907212fc9c4274a28b5051f199603b",
       "version_major": 2,
       "version_minor": 0
      },
      "text/plain": [
       "HBox(children=(FloatProgress(value=0.0, max=3.0), HTML(value='')))"
      ]
     },
     "metadata": {},
     "output_type": "display_data"
    },
    {
     "name": "stdout",
     "output_type": "stream",
     "text": [
      "\n"
     ]
    },
    {
     "data": {
      "application/vnd.jupyter.widget-view+json": {
       "model_id": "d3624858269b4e41b0d9fd46ae5a0f33",
       "version_major": 2,
       "version_minor": 0
      },
      "text/plain": [
       "HBox(children=(FloatProgress(value=0.0, max=1.0), HTML(value='')))"
      ]
     },
     "metadata": {},
     "output_type": "display_data"
    },
    {
     "name": "stdout",
     "output_type": "stream",
     "text": [
      "\n"
     ]
    }
   ],
   "source": [
    "def tokenize_function(examples):\n",
    "    return tokenizer(examples['excerpt'], padding='max_length', truncation=True, max_length=512)\n",
    "\n",
    "f_train_datasets = train_datasets.map(tokenize_function, batched=True)\n",
    "f_train_datasets = f_train_datasets.remove_columns(['id', 'url_legal', 'license', 'excerpt', 'standard_error'])\n",
    "f_train_datasets = f_train_datasets.rename_column('target', 'labels')\n",
    "f_train_datasets = f_train_datasets.shuffle(seed=42)\n",
    "\n",
    "f_test_datasets = test_datasets.map(tokenize_function, batched=True)\n",
    "f_test_datasets = f_test_datasets.remove_columns(['url_legal', 'license', 'excerpt'])"
   ]
  },
  {
   "cell_type": "code",
   "execution_count": 10,
   "id": "virgin-commitment",
   "metadata": {
    "execution": {
     "iopub.execute_input": "2021-06-06T01:08:46.476112Z",
     "iopub.status.busy": "2021-06-06T01:08:46.474985Z",
     "iopub.status.idle": "2021-06-06T01:08:46.483815Z",
     "shell.execute_reply": "2021-06-06T01:08:46.483241Z",
     "shell.execute_reply.started": "2021-05-31T22:26:00.823075Z"
    },
    "papermill": {
     "duration": 0.044035,
     "end_time": "2021-06-06T01:08:46.483982",
     "exception": false,
     "start_time": "2021-06-06T01:08:46.439947",
     "status": "completed"
    },
    "tags": []
   },
   "outputs": [],
   "source": [
    "n_samples = len(f_train_datasets['train'])\n",
    "n_train = int(0.9 * n_samples)\n",
    "\n",
    "f_train_dataset = f_train_datasets['train'].select(range(n_train))\n",
    "f_eval_dataset = f_train_datasets['train'].select(range(n_train, n_samples))\n",
    "\n",
    "f_test_dataset = f_test_datasets['train']"
   ]
  },
  {
   "cell_type": "code",
   "execution_count": 11,
   "id": "altered-count",
   "metadata": {
    "execution": {
     "iopub.execute_input": "2021-06-06T01:08:46.547691Z",
     "iopub.status.busy": "2021-06-06T01:08:46.546703Z",
     "iopub.status.idle": "2021-06-06T01:08:46.550254Z",
     "shell.execute_reply": "2021-06-06T01:08:46.549651Z",
     "shell.execute_reply.started": "2021-05-31T22:26:00.839261Z"
    },
    "papermill": {
     "duration": 0.037551,
     "end_time": "2021-06-06T01:08:46.550434",
     "exception": false,
     "start_time": "2021-06-06T01:08:46.512883",
     "status": "completed"
    },
    "tags": []
   },
   "outputs": [],
   "source": [
    "def compute_metrics(eval_pred):\n",
    "    logits, labels = eval_pred\n",
    "    logits, labels = logits.squeeze(), labels.squeeze()\n",
    "    rmse = np.sqrt(np.mean((labels - logits) ** 2))\n",
    "    return {'RMSE': rmse}"
   ]
  },
  {
   "cell_type": "code",
   "execution_count": 12,
   "id": "greater-stopping",
   "metadata": {
    "execution": {
     "iopub.execute_input": "2021-06-06T01:08:46.612018Z",
     "iopub.status.busy": "2021-06-06T01:08:46.610978Z",
     "iopub.status.idle": "2021-06-06T01:08:46.614223Z",
     "shell.execute_reply": "2021-06-06T01:08:46.614732Z",
     "shell.execute_reply.started": "2021-05-31T22:26:00.84845Z"
    },
    "papermill": {
     "duration": 0.036298,
     "end_time": "2021-06-06T01:08:46.614926",
     "exception": false,
     "start_time": "2021-06-06T01:08:46.578628",
     "status": "completed"
    },
    "tags": []
   },
   "outputs": [],
   "source": [
    "# os.environ['WANDB_API_KEY'] = '19baf7fe1571ebd98eff8449df8e8cbc3d30c634'"
   ]
  },
  {
   "cell_type": "code",
   "execution_count": 13,
   "id": "general-gauge",
   "metadata": {
    "execution": {
     "iopub.execute_input": "2021-06-06T01:08:46.676979Z",
     "iopub.status.busy": "2021-06-06T01:08:46.675785Z",
     "iopub.status.idle": "2021-06-06T01:08:55.682685Z",
     "shell.execute_reply": "2021-06-06T01:08:55.683849Z",
     "shell.execute_reply.started": "2021-05-31T22:26:00.858667Z"
    },
    "papermill": {
     "duration": 9.041521,
     "end_time": "2021-06-06T01:08:55.684099",
     "exception": false,
     "start_time": "2021-06-06T01:08:46.642578",
     "status": "completed"
    },
    "tags": []
   },
   "outputs": [
    {
     "name": "stderr",
     "output_type": "stream",
     "text": [
      "Using the `WAND_DISABLED` environment variable is deprecated and will be removed in v5. Use the --report_to flag to control the integrations used for logging result (for instance --report_to none).\n"
     ]
    }
   ],
   "source": [
    "training_args = TrainingArguments(\n",
    "    'training_args',\n",
    "    num_train_epochs = 5,\n",
    "    logging_steps = 200,\n",
    "    learning_rate = 1e-4,\n",
    "    per_device_train_batch_size = 8,\n",
    "    per_device_eval_batch_size = 8,\n",
    "    evaluation_strategy = 'steps'\n",
    ")\n",
    "\n",
    "trainer = Trainer(\n",
    "    model = model,\n",
    "    train_dataset = f_train_dataset,\n",
    "    eval_dataset = f_eval_dataset,\n",
    "    compute_metrics = compute_metrics,\n",
    "    args = training_args\n",
    ")"
   ]
  },
  {
   "cell_type": "code",
   "execution_count": 14,
   "id": "talented-fault",
   "metadata": {
    "execution": {
     "iopub.execute_input": "2021-06-06T01:08:55.789500Z",
     "iopub.status.busy": "2021-06-06T01:08:55.786859Z",
     "iopub.status.idle": "2021-06-06T01:08:55.790642Z",
     "shell.execute_reply": "2021-06-06T01:08:55.791463Z",
     "shell.execute_reply.started": "2021-05-31T22:26:09.949029Z"
    },
    "papermill": {
     "duration": 0.05842,
     "end_time": "2021-06-06T01:08:55.791662",
     "exception": false,
     "start_time": "2021-06-06T01:08:55.733242",
     "status": "completed"
    },
    "tags": []
   },
   "outputs": [],
   "source": [
    "# for x in f_train_dataset:\n",
    "#     a = len(x['input_ids'])\n",
    "#     print(a)\n",
    "\n",
    "# # [len(v) for v in f_train_dataset[0].values()]"
   ]
  },
  {
   "cell_type": "code",
   "execution_count": 15,
   "id": "horizontal-better",
   "metadata": {
    "execution": {
     "iopub.execute_input": "2021-06-06T01:08:56.121402Z",
     "iopub.status.busy": "2021-06-06T01:08:56.119810Z",
     "iopub.status.idle": "2021-06-06T01:28:08.555690Z",
     "shell.execute_reply": "2021-06-06T01:28:08.556273Z",
     "shell.execute_reply.started": "2021-05-31T22:26:09.963559Z"
    },
    "papermill": {
     "duration": 1152.712028,
     "end_time": "2021-06-06T01:28:08.556536",
     "exception": false,
     "start_time": "2021-06-06T01:08:55.844508",
     "status": "completed"
    },
    "tags": []
   },
   "outputs": [
    {
     "data": {
      "text/html": [
       "\n",
       "    <div>\n",
       "        <style>\n",
       "            /* Turns off some styling */\n",
       "            progress {\n",
       "                /* gets rid of default border in Firefox and Opera. */\n",
       "                border: none;\n",
       "                /* Needs to be in here for Safari polyfill so background images work as expected. */\n",
       "                background-size: auto;\n",
       "            }\n",
       "        </style>\n",
       "      \n",
       "      <progress value='1595' max='1595' style='width:300px; height:20px; vertical-align: middle;'></progress>\n",
       "      [1595/1595 19:10, Epoch 5/5]\n",
       "    </div>\n",
       "    <table border=\"1\" class=\"dataframe\">\n",
       "  <thead>\n",
       "    <tr style=\"text-align: left;\">\n",
       "      <th>Step</th>\n",
       "      <th>Training Loss</th>\n",
       "      <th>Validation Loss</th>\n",
       "      <th>Rmse</th>\n",
       "      <th>Runtime</th>\n",
       "      <th>Samples Per Second</th>\n",
       "    </tr>\n",
       "  </thead>\n",
       "  <tbody>\n",
       "    <tr>\n",
       "      <td>200</td>\n",
       "      <td>0.677800</td>\n",
       "      <td>0.556667</td>\n",
       "      <td>0.746101</td>\n",
       "      <td>5.292700</td>\n",
       "      <td>53.659000</td>\n",
       "    </tr>\n",
       "    <tr>\n",
       "      <td>400</td>\n",
       "      <td>0.532100</td>\n",
       "      <td>0.675846</td>\n",
       "      <td>0.822099</td>\n",
       "      <td>5.290200</td>\n",
       "      <td>53.684000</td>\n",
       "    </tr>\n",
       "    <tr>\n",
       "      <td>600</td>\n",
       "      <td>0.373000</td>\n",
       "      <td>0.526141</td>\n",
       "      <td>0.725356</td>\n",
       "      <td>5.263900</td>\n",
       "      <td>53.952000</td>\n",
       "    </tr>\n",
       "    <tr>\n",
       "      <td>800</td>\n",
       "      <td>0.297200</td>\n",
       "      <td>0.530737</td>\n",
       "      <td>0.728517</td>\n",
       "      <td>5.273900</td>\n",
       "      <td>53.850000</td>\n",
       "    </tr>\n",
       "    <tr>\n",
       "      <td>1000</td>\n",
       "      <td>0.253000</td>\n",
       "      <td>0.614836</td>\n",
       "      <td>0.784114</td>\n",
       "      <td>5.262800</td>\n",
       "      <td>53.964000</td>\n",
       "    </tr>\n",
       "    <tr>\n",
       "      <td>1200</td>\n",
       "      <td>0.192000</td>\n",
       "      <td>0.397765</td>\n",
       "      <td>0.630686</td>\n",
       "      <td>5.306200</td>\n",
       "      <td>53.522000</td>\n",
       "    </tr>\n",
       "    <tr>\n",
       "      <td>1400</td>\n",
       "      <td>0.158100</td>\n",
       "      <td>0.504232</td>\n",
       "      <td>0.710093</td>\n",
       "      <td>5.279500</td>\n",
       "      <td>53.793000</td>\n",
       "    </tr>\n",
       "  </tbody>\n",
       "</table><p>"
      ],
      "text/plain": [
       "<IPython.core.display.HTML object>"
      ]
     },
     "metadata": {},
     "output_type": "display_data"
    },
    {
     "data": {
      "text/plain": [
       "TrainOutput(global_step=1595, training_loss=0.32731007662686434, metrics={'train_runtime': 1151.9769, 'train_samples_per_second': 1.385, 'total_flos': 4242326853888000.0, 'epoch': 5.0, 'init_mem_cpu_alloc_delta': 1805897728, 'init_mem_gpu_alloc_delta': 433773056, 'init_mem_cpu_peaked_delta': 88604672, 'init_mem_gpu_peaked_delta': 0, 'train_mem_cpu_alloc_delta': 244830208, 'train_mem_gpu_alloc_delta': 1361674752, 'train_mem_cpu_peaked_delta': 267206656, 'train_mem_gpu_peaked_delta': 6504080384})"
      ]
     },
     "execution_count": 15,
     "metadata": {},
     "output_type": "execute_result"
    }
   ],
   "source": [
    "trainer.train()"
   ]
  },
  {
   "cell_type": "code",
   "execution_count": 16,
   "id": "alternate-dominant",
   "metadata": {
    "execution": {
     "iopub.execute_input": "2021-06-06T01:28:08.816134Z",
     "iopub.status.busy": "2021-06-06T01:28:08.815375Z",
     "iopub.status.idle": "2021-06-06T01:28:14.387126Z",
     "shell.execute_reply": "2021-06-06T01:28:14.387600Z",
     "shell.execute_reply.started": "2021-05-31T22:47:14.435235Z"
    },
    "papermill": {
     "duration": 5.801303,
     "end_time": "2021-06-06T01:28:14.387807",
     "exception": false,
     "start_time": "2021-06-06T01:28:08.586504",
     "status": "completed"
    },
    "tags": []
   },
   "outputs": [
    {
     "data": {
      "text/html": [
       "\n",
       "    <div>\n",
       "        <style>\n",
       "            /* Turns off some styling */\n",
       "            progress {\n",
       "                /* gets rid of default border in Firefox and Opera. */\n",
       "                border: none;\n",
       "                /* Needs to be in here for Safari polyfill so background images work as expected. */\n",
       "                background-size: auto;\n",
       "            }\n",
       "        </style>\n",
       "      \n",
       "      <progress value='37' max='36' style='width:300px; height:20px; vertical-align: middle;'></progress>\n",
       "      [36/36 00:05]\n",
       "    </div>\n",
       "    "
      ],
      "text/plain": [
       "<IPython.core.display.HTML object>"
      ]
     },
     "metadata": {},
     "output_type": "display_data"
    },
    {
     "data": {
      "text/plain": [
       "{'eval_loss': 0.3960549235343933,\n",
       " 'eval_RMSE': 0.6293289661407471,\n",
       " 'eval_runtime': 5.3445,\n",
       " 'eval_samples_per_second': 53.139,\n",
       " 'epoch': 5.0,\n",
       " 'eval_mem_cpu_alloc_delta': 0,\n",
       " 'eval_mem_gpu_alloc_delta': 0,\n",
       " 'eval_mem_cpu_peaked_delta': 0,\n",
       " 'eval_mem_gpu_peaked_delta': 289528832}"
      ]
     },
     "execution_count": 16,
     "metadata": {},
     "output_type": "execute_result"
    }
   ],
   "source": [
    "trainer.evaluate()"
   ]
  },
  {
   "cell_type": "code",
   "execution_count": 17,
   "id": "stretch-press",
   "metadata": {
    "execution": {
     "iopub.execute_input": "2021-06-06T01:28:14.455497Z",
     "iopub.status.busy": "2021-06-06T01:28:14.454795Z",
     "iopub.status.idle": "2021-06-06T01:28:14.459886Z",
     "shell.execute_reply": "2021-06-06T01:28:14.459306Z"
    },
    "papermill": {
     "duration": 0.040548,
     "end_time": "2021-06-06T01:28:14.460068",
     "exception": false,
     "start_time": "2021-06-06T01:28:14.419520",
     "status": "completed"
    },
    "tags": []
   },
   "outputs": [],
   "source": [
    "# model.save_pretrained('model_v1')"
   ]
  },
  {
   "cell_type": "code",
   "execution_count": 18,
   "id": "lonely-stack",
   "metadata": {
    "execution": {
     "iopub.execute_input": "2021-06-06T01:28:14.721002Z",
     "iopub.status.busy": "2021-06-06T01:28:14.720230Z",
     "iopub.status.idle": "2021-06-06T01:28:15.073765Z",
     "shell.execute_reply": "2021-06-06T01:28:15.073185Z"
    },
    "papermill": {
     "duration": 0.582414,
     "end_time": "2021-06-06T01:28:15.073976",
     "exception": false,
     "start_time": "2021-06-06T01:28:14.491562",
     "status": "completed"
    },
    "tags": []
   },
   "outputs": [],
   "source": [
    "pred_output = trainer.predict(f_test_dataset)\n",
    "pred_targets = pred_output.predictions.squeeze()\n",
    "pred_ids = f_test_dataset['id']\n",
    "\n",
    "submission = pd.DataFrame({\n",
    "    'id': pred_ids,\n",
    "    'target': pred_targets\n",
    "})\n",
    "\n",
    "submission.to_csv('submission.csv', index=False)"
   ]
  }
 ],
 "metadata": {
  "kernelspec": {
   "display_name": "Python 3",
   "language": "python",
   "name": "python3"
  },
  "language_info": {
   "codemirror_mode": {
    "name": "ipython",
    "version": 3
   },
   "file_extension": ".py",
   "mimetype": "text/x-python",
   "name": "python",
   "nbconvert_exporter": "python",
   "pygments_lexer": "ipython3",
   "version": "3.7.10"
  },
  "papermill": {
   "default_parameters": {},
   "duration": 1315.303748,
   "end_time": "2021-06-06T01:28:17.815740",
   "environment_variables": {},
   "exception": null,
   "input_path": "__notebook__.ipynb",
   "output_path": "__notebook__.ipynb",
   "parameters": {},
   "start_time": "2021-06-06T01:06:22.511992",
   "version": "2.3.3"
  },
  "widgets": {
   "application/vnd.jupyter.widget-state+json": {
    "state": {
     "0829896e4f0e4ced905aba8e96757ec6": {
      "model_module": "@jupyter-widgets/controls",
      "model_module_version": "1.5.0",
      "model_name": "DescriptionStyleModel",
      "state": {
       "_model_module": "@jupyter-widgets/controls",
       "_model_module_version": "1.5.0",
       "_model_name": "DescriptionStyleModel",
       "_view_count": null,
       "_view_module": "@jupyter-widgets/base",
       "_view_module_version": "1.2.0",
       "_view_name": "StyleView",
       "description_width": ""
      }
     },
     "0dfcc6bcf8fc41168901e4cb28c44368": {
      "model_module": "@jupyter-widgets/controls",
      "model_module_version": "1.5.0",
      "model_name": "HTMLModel",
      "state": {
       "_dom_classes": [],
       "_model_module": "@jupyter-widgets/controls",
       "_model_module_version": "1.5.0",
       "_model_name": "HTMLModel",
       "_view_count": null,
       "_view_module": "@jupyter-widgets/controls",
       "_view_module_version": "1.5.0",
       "_view_name": "HTMLView",
       "description": "",
       "description_tooltip": null,
       "layout": "IPY_MODEL_9b8660528f3f4f778ce3f96846ee0eeb",
       "placeholder": "​",
       "style": "IPY_MODEL_ce131ec5a19b442888d7b2f0c5f961a6",
       "value": "&lt;tqdm.auto.tqdm object at 0x7f94dca0b390&gt;"
      }
     },
     "12045fd745bd40cabfa4faf5efe6e8c4": {
      "model_module": "@jupyter-widgets/controls",
      "model_module_version": "1.5.0",
      "model_name": "ProgressStyleModel",
      "state": {
       "_model_module": "@jupyter-widgets/controls",
       "_model_module_version": "1.5.0",
       "_model_name": "ProgressStyleModel",
       "_view_count": null,
       "_view_module": "@jupyter-widgets/base",
       "_view_module_version": "1.2.0",
       "_view_name": "StyleView",
       "bar_color": null,
       "description_width": "initial"
      }
     },
     "146def3d0ccf4043943d03d8113a171e": {
      "model_module": "@jupyter-widgets/controls",
      "model_module_version": "1.5.0",
      "model_name": "ProgressStyleModel",
      "state": {
       "_model_module": "@jupyter-widgets/controls",
       "_model_module_version": "1.5.0",
       "_model_name": "ProgressStyleModel",
       "_view_count": null,
       "_view_module": "@jupyter-widgets/base",
       "_view_module_version": "1.2.0",
       "_view_name": "StyleView",
       "bar_color": null,
       "description_width": "initial"
      }
     },
     "14d71641492c497ab248dc12a1e08945": {
      "model_module": "@jupyter-widgets/controls",
      "model_module_version": "1.5.0",
      "model_name": "HBoxModel",
      "state": {
       "_dom_classes": [],
       "_model_module": "@jupyter-widgets/controls",
       "_model_module_version": "1.5.0",
       "_model_name": "HBoxModel",
       "_view_count": null,
       "_view_module": "@jupyter-widgets/controls",
       "_view_module_version": "1.5.0",
       "_view_name": "HBoxView",
       "box_style": "",
       "children": [
        "IPY_MODEL_a927ee407e97484086d7a4f460a0b2a5",
        "IPY_MODEL_e8970e3a1559409a9f62635092309a33"
       ],
       "layout": "IPY_MODEL_56c3dc8a2a7046428089e3a8a18518f7"
      }
     },
     "15afd4b4994a4ac6a029363123f9be89": {
      "model_module": "@jupyter-widgets/base",
      "model_module_version": "1.2.0",
      "model_name": "LayoutModel",
      "state": {
       "_model_module": "@jupyter-widgets/base",
       "_model_module_version": "1.2.0",
       "_model_name": "LayoutModel",
       "_view_count": null,
       "_view_module": "@jupyter-widgets/base",
       "_view_module_version": "1.2.0",
       "_view_name": "LayoutView",
       "align_content": null,
       "align_items": null,
       "align_self": null,
       "border": null,
       "bottom": null,
       "display": null,
       "flex": null,
       "flex_flow": null,
       "grid_area": null,
       "grid_auto_columns": null,
       "grid_auto_flow": null,
       "grid_auto_rows": null,
       "grid_column": null,
       "grid_gap": null,
       "grid_row": null,
       "grid_template_areas": null,
       "grid_template_columns": null,
       "grid_template_rows": null,
       "height": null,
       "justify_content": null,
       "justify_items": null,
       "left": null,
       "margin": null,
       "max_height": null,
       "max_width": null,
       "min_height": null,
       "min_width": null,
       "object_fit": null,
       "object_position": null,
       "order": null,
       "overflow": null,
       "overflow_x": null,
       "overflow_y": null,
       "padding": null,
       "right": null,
       "top": null,
       "visibility": null,
       "width": "20px"
      }
     },
     "224bbd6ba1974f43aecc699ba926fcdd": {
      "model_module": "@jupyter-widgets/base",
      "model_module_version": "1.2.0",
      "model_name": "LayoutModel",
      "state": {
       "_model_module": "@jupyter-widgets/base",
       "_model_module_version": "1.2.0",
       "_model_name": "LayoutModel",
       "_view_count": null,
       "_view_module": "@jupyter-widgets/base",
       "_view_module_version": "1.2.0",
       "_view_name": "LayoutView",
       "align_content": null,
       "align_items": null,
       "align_self": null,
       "border": null,
       "bottom": null,
       "display": null,
       "flex": null,
       "flex_flow": null,
       "grid_area": null,
       "grid_auto_columns": null,
       "grid_auto_flow": null,
       "grid_auto_rows": null,
       "grid_column": null,
       "grid_gap": null,
       "grid_row": null,
       "grid_template_areas": null,
       "grid_template_columns": null,
       "grid_template_rows": null,
       "height": null,
       "justify_content": null,
       "justify_items": null,
       "left": null,
       "margin": null,
       "max_height": null,
       "max_width": null,
       "min_height": null,
       "min_width": null,
       "object_fit": null,
       "object_position": null,
       "order": null,
       "overflow": null,
       "overflow_x": null,
       "overflow_y": null,
       "padding": null,
       "right": null,
       "top": null,
       "visibility": null,
       "width": null
      }
     },
     "29504a043ffb4396868d1f89bfb6ebcc": {
      "model_module": "@jupyter-widgets/controls",
      "model_module_version": "1.5.0",
      "model_name": "HTMLModel",
      "state": {
       "_dom_classes": [],
       "_model_module": "@jupyter-widgets/controls",
       "_model_module_version": "1.5.0",
       "_model_name": "HTMLModel",
       "_view_count": null,
       "_view_module": "@jupyter-widgets/controls",
       "_view_module_version": "1.5.0",
       "_view_name": "HTMLView",
       "description": "",
       "description_tooltip": null,
       "layout": "IPY_MODEL_224bbd6ba1974f43aecc699ba926fcdd",
       "placeholder": "​",
       "style": "IPY_MODEL_399848bf919c415ab08c06d2524328cd",
       "value": "&lt;tqdm.auto.tqdm object at 0x7f94dcaf0b10&gt;"
      }
     },
     "36907212fc9c4274a28b5051f199603b": {
      "model_module": "@jupyter-widgets/controls",
      "model_module_version": "1.5.0",
      "model_name": "HBoxModel",
      "state": {
       "_dom_classes": [],
       "_model_module": "@jupyter-widgets/controls",
       "_model_module_version": "1.5.0",
       "_model_name": "HBoxModel",
       "_view_count": null,
       "_view_module": "@jupyter-widgets/controls",
       "_view_module_version": "1.5.0",
       "_view_name": "HBoxView",
       "box_style": "",
       "children": [
        "IPY_MODEL_cdb39964f1d44f6e94cda70a24a8f955",
        "IPY_MODEL_770008bfcd8f4d23882ff9dedeebf687"
       ],
       "layout": "IPY_MODEL_92d228e7c72e41549ab32092b77488a3"
      }
     },
     "399848bf919c415ab08c06d2524328cd": {
      "model_module": "@jupyter-widgets/controls",
      "model_module_version": "1.5.0",
      "model_name": "DescriptionStyleModel",
      "state": {
       "_model_module": "@jupyter-widgets/controls",
       "_model_module_version": "1.5.0",
       "_model_name": "DescriptionStyleModel",
       "_view_count": null,
       "_view_module": "@jupyter-widgets/base",
       "_view_module_version": "1.2.0",
       "_view_name": "StyleView",
       "description_width": ""
      }
     },
     "3d3c7e859796418385a75db3042ca96e": {
      "model_module": "@jupyter-widgets/base",
      "model_module_version": "1.2.0",
      "model_name": "LayoutModel",
      "state": {
       "_model_module": "@jupyter-widgets/base",
       "_model_module_version": "1.2.0",
       "_model_name": "LayoutModel",
       "_view_count": null,
       "_view_module": "@jupyter-widgets/base",
       "_view_module_version": "1.2.0",
       "_view_name": "LayoutView",
       "align_content": null,
       "align_items": null,
       "align_self": null,
       "border": null,
       "bottom": null,
       "display": null,
       "flex": null,
       "flex_flow": null,
       "grid_area": null,
       "grid_auto_columns": null,
       "grid_auto_flow": null,
       "grid_auto_rows": null,
       "grid_column": null,
       "grid_gap": null,
       "grid_row": null,
       "grid_template_areas": null,
       "grid_template_columns": null,
       "grid_template_rows": null,
       "height": null,
       "justify_content": null,
       "justify_items": null,
       "left": null,
       "margin": null,
       "max_height": null,
       "max_width": null,
       "min_height": null,
       "min_width": null,
       "object_fit": null,
       "object_position": null,
       "order": null,
       "overflow": null,
       "overflow_x": null,
       "overflow_y": null,
       "padding": null,
       "right": null,
       "top": null,
       "visibility": null,
       "width": "20px"
      }
     },
     "48f27efc385b4fadbd82b9118574e893": {
      "model_module": "@jupyter-widgets/controls",
      "model_module_version": "1.5.0",
      "model_name": "HBoxModel",
      "state": {
       "_dom_classes": [],
       "_model_module": "@jupyter-widgets/controls",
       "_model_module_version": "1.5.0",
       "_model_name": "HBoxModel",
       "_view_count": null,
       "_view_module": "@jupyter-widgets/controls",
       "_view_module_version": "1.5.0",
       "_view_name": "HBoxView",
       "box_style": "",
       "children": [
        "IPY_MODEL_702560f39b4a4ce7999c1099cff22c39",
        "IPY_MODEL_29504a043ffb4396868d1f89bfb6ebcc"
       ],
       "layout": "IPY_MODEL_a1302a643f094530b99563abd50384e7"
      }
     },
     "533fcc94d2c1465f88c9fe9be11336f3": {
      "model_module": "@jupyter-widgets/base",
      "model_module_version": "1.2.0",
      "model_name": "LayoutModel",
      "state": {
       "_model_module": "@jupyter-widgets/base",
       "_model_module_version": "1.2.0",
       "_model_name": "LayoutModel",
       "_view_count": null,
       "_view_module": "@jupyter-widgets/base",
       "_view_module_version": "1.2.0",
       "_view_name": "LayoutView",
       "align_content": null,
       "align_items": null,
       "align_self": null,
       "border": null,
       "bottom": null,
       "display": null,
       "flex": null,
       "flex_flow": null,
       "grid_area": null,
       "grid_auto_columns": null,
       "grid_auto_flow": null,
       "grid_auto_rows": null,
       "grid_column": null,
       "grid_gap": null,
       "grid_row": null,
       "grid_template_areas": null,
       "grid_template_columns": null,
       "grid_template_rows": null,
       "height": null,
       "justify_content": null,
       "justify_items": null,
       "left": null,
       "margin": null,
       "max_height": null,
       "max_width": null,
       "min_height": null,
       "min_width": null,
       "object_fit": null,
       "object_position": null,
       "order": null,
       "overflow": null,
       "overflow_x": null,
       "overflow_y": null,
       "padding": null,
       "right": null,
       "top": null,
       "visibility": null,
       "width": null
      }
     },
     "56c3dc8a2a7046428089e3a8a18518f7": {
      "model_module": "@jupyter-widgets/base",
      "model_module_version": "1.2.0",
      "model_name": "LayoutModel",
      "state": {
       "_model_module": "@jupyter-widgets/base",
       "_model_module_version": "1.2.0",
       "_model_name": "LayoutModel",
       "_view_count": null,
       "_view_module": "@jupyter-widgets/base",
       "_view_module_version": "1.2.0",
       "_view_name": "LayoutView",
       "align_content": null,
       "align_items": null,
       "align_self": null,
       "border": null,
       "bottom": null,
       "display": null,
       "flex": null,
       "flex_flow": null,
       "grid_area": null,
       "grid_auto_columns": null,
       "grid_auto_flow": null,
       "grid_auto_rows": null,
       "grid_column": null,
       "grid_gap": null,
       "grid_row": null,
       "grid_template_areas": null,
       "grid_template_columns": null,
       "grid_template_rows": null,
       "height": null,
       "justify_content": null,
       "justify_items": null,
       "left": null,
       "margin": null,
       "max_height": null,
       "max_width": null,
       "min_height": null,
       "min_width": null,
       "object_fit": null,
       "object_position": null,
       "order": null,
       "overflow": null,
       "overflow_x": null,
       "overflow_y": null,
       "padding": null,
       "right": null,
       "top": null,
       "visibility": null,
       "width": null
      }
     },
     "64b631c7ac954a3e93b802dc6d35ddab": {
      "model_module": "@jupyter-widgets/controls",
      "model_module_version": "1.5.0",
      "model_name": "ProgressStyleModel",
      "state": {
       "_model_module": "@jupyter-widgets/controls",
       "_model_module_version": "1.5.0",
       "_model_name": "ProgressStyleModel",
       "_view_count": null,
       "_view_module": "@jupyter-widgets/base",
       "_view_module_version": "1.2.0",
       "_view_name": "StyleView",
       "bar_color": null,
       "description_width": "initial"
      }
     },
     "6be8b1f774dd49f88fb829fe8020ba30": {
      "model_module": "@jupyter-widgets/base",
      "model_module_version": "1.2.0",
      "model_name": "LayoutModel",
      "state": {
       "_model_module": "@jupyter-widgets/base",
       "_model_module_version": "1.2.0",
       "_model_name": "LayoutModel",
       "_view_count": null,
       "_view_module": "@jupyter-widgets/base",
       "_view_module_version": "1.2.0",
       "_view_name": "LayoutView",
       "align_content": null,
       "align_items": null,
       "align_self": null,
       "border": null,
       "bottom": null,
       "display": null,
       "flex": null,
       "flex_flow": null,
       "grid_area": null,
       "grid_auto_columns": null,
       "grid_auto_flow": null,
       "grid_auto_rows": null,
       "grid_column": null,
       "grid_gap": null,
       "grid_row": null,
       "grid_template_areas": null,
       "grid_template_columns": null,
       "grid_template_rows": null,
       "height": null,
       "justify_content": null,
       "justify_items": null,
       "left": null,
       "margin": null,
       "max_height": null,
       "max_width": null,
       "min_height": null,
       "min_width": null,
       "object_fit": null,
       "object_position": null,
       "order": null,
       "overflow": null,
       "overflow_x": null,
       "overflow_y": null,
       "padding": null,
       "right": null,
       "top": null,
       "visibility": null,
       "width": null
      }
     },
     "702560f39b4a4ce7999c1099cff22c39": {
      "model_module": "@jupyter-widgets/controls",
      "model_module_version": "1.5.0",
      "model_name": "FloatProgressModel",
      "state": {
       "_dom_classes": [],
       "_model_module": "@jupyter-widgets/controls",
       "_model_module_version": "1.5.0",
       "_model_name": "FloatProgressModel",
       "_view_count": null,
       "_view_module": "@jupyter-widgets/controls",
       "_view_module_version": "1.5.0",
       "_view_name": "ProgressView",
       "bar_style": "info",
       "description": "",
       "description_tooltip": null,
       "layout": "IPY_MODEL_15afd4b4994a4ac6a029363123f9be89",
       "max": 1.0,
       "min": 0.0,
       "orientation": "horizontal",
       "style": "IPY_MODEL_12045fd745bd40cabfa4faf5efe6e8c4",
       "value": 1.0
      }
     },
     "718926306ca64ea0a9b098fe24b75641": {
      "model_module": "@jupyter-widgets/base",
      "model_module_version": "1.2.0",
      "model_name": "LayoutModel",
      "state": {
       "_model_module": "@jupyter-widgets/base",
       "_model_module_version": "1.2.0",
       "_model_name": "LayoutModel",
       "_view_count": null,
       "_view_module": "@jupyter-widgets/base",
       "_view_module_version": "1.2.0",
       "_view_name": "LayoutView",
       "align_content": null,
       "align_items": null,
       "align_self": null,
       "border": null,
       "bottom": null,
       "display": null,
       "flex": null,
       "flex_flow": null,
       "grid_area": null,
       "grid_auto_columns": null,
       "grid_auto_flow": null,
       "grid_auto_rows": null,
       "grid_column": null,
       "grid_gap": null,
       "grid_row": null,
       "grid_template_areas": null,
       "grid_template_columns": null,
       "grid_template_rows": null,
       "height": null,
       "justify_content": null,
       "justify_items": null,
       "left": null,
       "margin": null,
       "max_height": null,
       "max_width": null,
       "min_height": null,
       "min_width": null,
       "object_fit": null,
       "object_position": null,
       "order": null,
       "overflow": null,
       "overflow_x": null,
       "overflow_y": null,
       "padding": null,
       "right": null,
       "top": null,
       "visibility": null,
       "width": null
      }
     },
     "76923d0937474b2c991ca2216b11bd6a": {
      "model_module": "@jupyter-widgets/controls",
      "model_module_version": "1.5.0",
      "model_name": "DescriptionStyleModel",
      "state": {
       "_model_module": "@jupyter-widgets/controls",
       "_model_module_version": "1.5.0",
       "_model_name": "DescriptionStyleModel",
       "_view_count": null,
       "_view_module": "@jupyter-widgets/base",
       "_view_module_version": "1.2.0",
       "_view_name": "StyleView",
       "description_width": ""
      }
     },
     "769b425d38b34bc29a7e22facd3c6263": {
      "model_module": "@jupyter-widgets/controls",
      "model_module_version": "1.5.0",
      "model_name": "ProgressStyleModel",
      "state": {
       "_model_module": "@jupyter-widgets/controls",
       "_model_module_version": "1.5.0",
       "_model_name": "ProgressStyleModel",
       "_view_count": null,
       "_view_module": "@jupyter-widgets/base",
       "_view_module_version": "1.2.0",
       "_view_name": "StyleView",
       "bar_color": null,
       "description_width": "initial"
      }
     },
     "770008bfcd8f4d23882ff9dedeebf687": {
      "model_module": "@jupyter-widgets/controls",
      "model_module_version": "1.5.0",
      "model_name": "HTMLModel",
      "state": {
       "_dom_classes": [],
       "_model_module": "@jupyter-widgets/controls",
       "_model_module_version": "1.5.0",
       "_model_name": "HTMLModel",
       "_view_count": null,
       "_view_module": "@jupyter-widgets/controls",
       "_view_module_version": "1.5.0",
       "_view_name": "HTMLView",
       "description": "",
       "description_tooltip": null,
       "layout": "IPY_MODEL_533fcc94d2c1465f88c9fe9be11336f3",
       "placeholder": "​",
       "style": "IPY_MODEL_0829896e4f0e4ced905aba8e96757ec6",
       "value": "&lt;tqdm.auto.tqdm object at 0x7f94dcaf0950&gt;"
      }
     },
     "92d228e7c72e41549ab32092b77488a3": {
      "model_module": "@jupyter-widgets/base",
      "model_module_version": "1.2.0",
      "model_name": "LayoutModel",
      "state": {
       "_model_module": "@jupyter-widgets/base",
       "_model_module_version": "1.2.0",
       "_model_name": "LayoutModel",
       "_view_count": null,
       "_view_module": "@jupyter-widgets/base",
       "_view_module_version": "1.2.0",
       "_view_name": "LayoutView",
       "align_content": null,
       "align_items": null,
       "align_self": null,
       "border": null,
       "bottom": null,
       "display": null,
       "flex": null,
       "flex_flow": null,
       "grid_area": null,
       "grid_auto_columns": null,
       "grid_auto_flow": null,
       "grid_auto_rows": null,
       "grid_column": null,
       "grid_gap": null,
       "grid_row": null,
       "grid_template_areas": null,
       "grid_template_columns": null,
       "grid_template_rows": null,
       "height": null,
       "justify_content": null,
       "justify_items": null,
       "left": null,
       "margin": null,
       "max_height": null,
       "max_width": null,
       "min_height": null,
       "min_width": null,
       "object_fit": null,
       "object_position": null,
       "order": null,
       "overflow": null,
       "overflow_x": null,
       "overflow_y": null,
       "padding": null,
       "right": null,
       "top": null,
       "visibility": null,
       "width": null
      }
     },
     "9b8660528f3f4f778ce3f96846ee0eeb": {
      "model_module": "@jupyter-widgets/base",
      "model_module_version": "1.2.0",
      "model_name": "LayoutModel",
      "state": {
       "_model_module": "@jupyter-widgets/base",
       "_model_module_version": "1.2.0",
       "_model_name": "LayoutModel",
       "_view_count": null,
       "_view_module": "@jupyter-widgets/base",
       "_view_module_version": "1.2.0",
       "_view_name": "LayoutView",
       "align_content": null,
       "align_items": null,
       "align_self": null,
       "border": null,
       "bottom": null,
       "display": null,
       "flex": null,
       "flex_flow": null,
       "grid_area": null,
       "grid_auto_columns": null,
       "grid_auto_flow": null,
       "grid_auto_rows": null,
       "grid_column": null,
       "grid_gap": null,
       "grid_row": null,
       "grid_template_areas": null,
       "grid_template_columns": null,
       "grid_template_rows": null,
       "height": null,
       "justify_content": null,
       "justify_items": null,
       "left": null,
       "margin": null,
       "max_height": null,
       "max_width": null,
       "min_height": null,
       "min_width": null,
       "object_fit": null,
       "object_position": null,
       "order": null,
       "overflow": null,
       "overflow_x": null,
       "overflow_y": null,
       "padding": null,
       "right": null,
       "top": null,
       "visibility": null,
       "width": null
      }
     },
     "a1302a643f094530b99563abd50384e7": {
      "model_module": "@jupyter-widgets/base",
      "model_module_version": "1.2.0",
      "model_name": "LayoutModel",
      "state": {
       "_model_module": "@jupyter-widgets/base",
       "_model_module_version": "1.2.0",
       "_model_name": "LayoutModel",
       "_view_count": null,
       "_view_module": "@jupyter-widgets/base",
       "_view_module_version": "1.2.0",
       "_view_name": "LayoutView",
       "align_content": null,
       "align_items": null,
       "align_self": null,
       "border": null,
       "bottom": null,
       "display": null,
       "flex": null,
       "flex_flow": null,
       "grid_area": null,
       "grid_auto_columns": null,
       "grid_auto_flow": null,
       "grid_auto_rows": null,
       "grid_column": null,
       "grid_gap": null,
       "grid_row": null,
       "grid_template_areas": null,
       "grid_template_columns": null,
       "grid_template_rows": null,
       "height": null,
       "justify_content": null,
       "justify_items": null,
       "left": null,
       "margin": null,
       "max_height": null,
       "max_width": null,
       "min_height": null,
       "min_width": null,
       "object_fit": null,
       "object_position": null,
       "order": null,
       "overflow": null,
       "overflow_x": null,
       "overflow_y": null,
       "padding": null,
       "right": null,
       "top": null,
       "visibility": null,
       "width": null
      }
     },
     "a927ee407e97484086d7a4f460a0b2a5": {
      "model_module": "@jupyter-widgets/controls",
      "model_module_version": "1.5.0",
      "model_name": "FloatProgressModel",
      "state": {
       "_dom_classes": [],
       "_model_module": "@jupyter-widgets/controls",
       "_model_module_version": "1.5.0",
       "_model_name": "FloatProgressModel",
       "_view_count": null,
       "_view_module": "@jupyter-widgets/controls",
       "_view_module_version": "1.5.0",
       "_view_name": "ProgressView",
       "bar_style": "info",
       "description": "",
       "description_tooltip": null,
       "layout": "IPY_MODEL_3d3c7e859796418385a75db3042ca96e",
       "max": 1.0,
       "min": 0.0,
       "orientation": "horizontal",
       "style": "IPY_MODEL_64b631c7ac954a3e93b802dc6d35ddab",
       "value": 1.0
      }
     },
     "cdb39964f1d44f6e94cda70a24a8f955": {
      "model_module": "@jupyter-widgets/controls",
      "model_module_version": "1.5.0",
      "model_name": "FloatProgressModel",
      "state": {
       "_dom_classes": [],
       "_model_module": "@jupyter-widgets/controls",
       "_model_module_version": "1.5.0",
       "_model_name": "FloatProgressModel",
       "_view_count": null,
       "_view_module": "@jupyter-widgets/controls",
       "_view_module_version": "1.5.0",
       "_view_name": "ProgressView",
       "bar_style": "success",
       "description": "",
       "description_tooltip": null,
       "layout": "IPY_MODEL_6be8b1f774dd49f88fb829fe8020ba30",
       "max": 3.0,
       "min": 0.0,
       "orientation": "horizontal",
       "style": "IPY_MODEL_146def3d0ccf4043943d03d8113a171e",
       "value": 3.0
      }
     },
     "ce131ec5a19b442888d7b2f0c5f961a6": {
      "model_module": "@jupyter-widgets/controls",
      "model_module_version": "1.5.0",
      "model_name": "DescriptionStyleModel",
      "state": {
       "_model_module": "@jupyter-widgets/controls",
       "_model_module_version": "1.5.0",
       "_model_name": "DescriptionStyleModel",
       "_view_count": null,
       "_view_module": "@jupyter-widgets/base",
       "_view_module_version": "1.2.0",
       "_view_name": "StyleView",
       "description_width": ""
      }
     },
     "d3624858269b4e41b0d9fd46ae5a0f33": {
      "model_module": "@jupyter-widgets/controls",
      "model_module_version": "1.5.0",
      "model_name": "HBoxModel",
      "state": {
       "_dom_classes": [],
       "_model_module": "@jupyter-widgets/controls",
       "_model_module_version": "1.5.0",
       "_model_name": "HBoxModel",
       "_view_count": null,
       "_view_module": "@jupyter-widgets/controls",
       "_view_module_version": "1.5.0",
       "_view_name": "HBoxView",
       "box_style": "",
       "children": [
        "IPY_MODEL_d8e78227a582401c941c8df760f7999d",
        "IPY_MODEL_0dfcc6bcf8fc41168901e4cb28c44368"
       ],
       "layout": "IPY_MODEL_e513328929104701bd76a7ad0ff95089"
      }
     },
     "d8e78227a582401c941c8df760f7999d": {
      "model_module": "@jupyter-widgets/controls",
      "model_module_version": "1.5.0",
      "model_name": "FloatProgressModel",
      "state": {
       "_dom_classes": [],
       "_model_module": "@jupyter-widgets/controls",
       "_model_module_version": "1.5.0",
       "_model_name": "FloatProgressModel",
       "_view_count": null,
       "_view_module": "@jupyter-widgets/controls",
       "_view_module_version": "1.5.0",
       "_view_name": "ProgressView",
       "bar_style": "success",
       "description": "",
       "description_tooltip": null,
       "layout": "IPY_MODEL_fb4158b446454c6fa470e796e8f061ed",
       "max": 1.0,
       "min": 0.0,
       "orientation": "horizontal",
       "style": "IPY_MODEL_769b425d38b34bc29a7e22facd3c6263",
       "value": 1.0
      }
     },
     "e513328929104701bd76a7ad0ff95089": {
      "model_module": "@jupyter-widgets/base",
      "model_module_version": "1.2.0",
      "model_name": "LayoutModel",
      "state": {
       "_model_module": "@jupyter-widgets/base",
       "_model_module_version": "1.2.0",
       "_model_name": "LayoutModel",
       "_view_count": null,
       "_view_module": "@jupyter-widgets/base",
       "_view_module_version": "1.2.0",
       "_view_name": "LayoutView",
       "align_content": null,
       "align_items": null,
       "align_self": null,
       "border": null,
       "bottom": null,
       "display": null,
       "flex": null,
       "flex_flow": null,
       "grid_area": null,
       "grid_auto_columns": null,
       "grid_auto_flow": null,
       "grid_auto_rows": null,
       "grid_column": null,
       "grid_gap": null,
       "grid_row": null,
       "grid_template_areas": null,
       "grid_template_columns": null,
       "grid_template_rows": null,
       "height": null,
       "justify_content": null,
       "justify_items": null,
       "left": null,
       "margin": null,
       "max_height": null,
       "max_width": null,
       "min_height": null,
       "min_width": null,
       "object_fit": null,
       "object_position": null,
       "order": null,
       "overflow": null,
       "overflow_x": null,
       "overflow_y": null,
       "padding": null,
       "right": null,
       "top": null,
       "visibility": null,
       "width": null
      }
     },
     "e8970e3a1559409a9f62635092309a33": {
      "model_module": "@jupyter-widgets/controls",
      "model_module_version": "1.5.0",
      "model_name": "HTMLModel",
      "state": {
       "_dom_classes": [],
       "_model_module": "@jupyter-widgets/controls",
       "_model_module_version": "1.5.0",
       "_model_name": "HTMLModel",
       "_view_count": null,
       "_view_module": "@jupyter-widgets/controls",
       "_view_module_version": "1.5.0",
       "_view_name": "HTMLView",
       "description": "",
       "description_tooltip": null,
       "layout": "IPY_MODEL_718926306ca64ea0a9b098fe24b75641",
       "placeholder": "​",
       "style": "IPY_MODEL_76923d0937474b2c991ca2216b11bd6a",
       "value": "&lt;tqdm.auto.tqdm object at 0x7f94dc4832d0&gt;"
      }
     },
     "fb4158b446454c6fa470e796e8f061ed": {
      "model_module": "@jupyter-widgets/base",
      "model_module_version": "1.2.0",
      "model_name": "LayoutModel",
      "state": {
       "_model_module": "@jupyter-widgets/base",
       "_model_module_version": "1.2.0",
       "_model_name": "LayoutModel",
       "_view_count": null,
       "_view_module": "@jupyter-widgets/base",
       "_view_module_version": "1.2.0",
       "_view_name": "LayoutView",
       "align_content": null,
       "align_items": null,
       "align_self": null,
       "border": null,
       "bottom": null,
       "display": null,
       "flex": null,
       "flex_flow": null,
       "grid_area": null,
       "grid_auto_columns": null,
       "grid_auto_flow": null,
       "grid_auto_rows": null,
       "grid_column": null,
       "grid_gap": null,
       "grid_row": null,
       "grid_template_areas": null,
       "grid_template_columns": null,
       "grid_template_rows": null,
       "height": null,
       "justify_content": null,
       "justify_items": null,
       "left": null,
       "margin": null,
       "max_height": null,
       "max_width": null,
       "min_height": null,
       "min_width": null,
       "object_fit": null,
       "object_position": null,
       "order": null,
       "overflow": null,
       "overflow_x": null,
       "overflow_y": null,
       "padding": null,
       "right": null,
       "top": null,
       "visibility": null,
       "width": null
      }
     }
    },
    "version_major": 2,
    "version_minor": 0
   }
  }
 },
 "nbformat": 4,
 "nbformat_minor": 5
}
